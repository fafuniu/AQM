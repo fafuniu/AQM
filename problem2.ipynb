{
 "cells": [
  {
   "cell_type": "markdown",
   "metadata": {},
   "source": [
    "# Problem 2\n"
   ]
  },
  {
   "cell_type": "markdown",
   "metadata": {},
   "source": [
    "## Question(a) \n",
    "Flip a fair coin twice. What is the probability that you get two consecutive heads (HH)? What is the\n",
    "probability that you get a heads followed by tails (HT)? Are these probabilities the same?"
   ]
  },
  {
   "cell_type": "markdown",
   "metadata": {},
   "source": [
    "### Answer:\n",
    "The probability that you get two consecutive heads (HH) is: $1/2*1/2=1/4$\n",
    "\n",
    "The probability that you get a heads followed by tails (HT) is: $1/2*1/2=1/4$\n",
    "\n",
    "These probabilities are same."
   ]
  },
  {
   "cell_type": "markdown",
   "metadata": {},
   "source": [
    "## Question (b) \n",
    "Flip a fair coin repeatedly until you get two heads in a row (HH). On average, how many flips should\n",
    "this take? What if we flip until we get heads followed by tails (HT)? Are the answers the same?"
   ]
  },
  {
   "cell_type": "markdown",
   "metadata": {},
   "source": [
    "### Answer:\n",
    "It takes 6 flips to get \"HH\", and 4 flips to get \"HT\". I list  2 methods to get the answer in the fllowing."
   ]
  },
  {
   "cell_type": "markdown",
   "metadata": {},
   "source": [
    "#### Method 1:\n"
   ]
  },
  {
   "cell_type": "markdown",
   "metadata": {},
   "source": [
    "#### for the HH case:\n",
    "Assume the expection times to get \"HH\" is $N$, the condition on the result of the first flip is:\n",
    "\n",
    "$$E(N)=0.5*E(N|H_1)+0.5*E(N|T_1)$$\n",
    "\n",
    "where:\n",
    "$H_1$ means the first flip we got a \"H\"\n",
    "$T_1$ means the first flip We got a \"T\"\n",
    "\n",
    "Then:\n",
    "\n",
    "$E(N|H_1)=0.5*E(N|H_1H_2)+0.5*E(N|H_1T_2)$\n",
    "\n",
    "$E(N|H_1)=0.5*2+0.5*(2+E(N))$\n",
    "\n",
    "And:\n",
    "\n",
    "$E(N|T_1)=1+E(N)$\n",
    "\n",
    "Plugging these in the first one, we can get:\n",
    "\n",
    "$E(N)=1.5+0.75E(N) ===>  E(N)=6$\n",
    "\n",
    "#### for the HT case:\n",
    "\n",
    "$E(N)=0.5*E(N|H_1)+0.5*E(N|T_1)$\n",
    "\n",
    "where:\n",
    "$H_1$ means the first flip we got a \"H\"\n",
    "$T_1$ means the first flip We got a \"T\"\n",
    "\n",
    "Then:\n",
    "\n",
    "$E(N|H_1)=0.5*E(N|H_1T_2)+0.5*E(N|H_1H_2)$\n",
    "\n",
    "$E(N|H_1)=0.5*2+0.5*(1+E(N|H_1))$\n",
    "\n",
    "$E(N|H_1)=3$\n",
    "\n",
    "And:\n",
    "\n",
    "$E(N|T_1)=1+E(N)$\n",
    "\n",
    "Plugging these in the first one, we can get:\n",
    "\n",
    "$E(N)=1.5+0.5*(1+E(N)) ===>  E(N)=4$"
   ]
  },
  {
   "cell_type": "markdown",
   "metadata": {},
   "source": [
    "#### Method 2: Monte Carlo simulation"
   ]
  },
  {
   "cell_type": "code",
   "execution_count": 1,
   "metadata": {},
   "outputs": [
    {
     "name": "stdout",
     "output_type": "stream",
     "text": [
      "The average flip time to get a HH is: 6.0381\n",
      "The average flip time to get a HT is: 3.9839\n"
     ]
    }
   ],
   "source": [
    "#Name:Caculate_times_getting\n",
    "#Purpose:This function is to calculate\"How many flips it will take to get a sequence you want\"\n",
    "# sequence can be \"HH\" or \"HT\"\n",
    "#In: sequence(str)\n",
    "\n",
    "def Caculate_times_getting(sequence):\n",
    "    import random\n",
    "    event=0\n",
    "    flip_time=0\n",
    "    for j in range(10000):\n",
    "        coin_list=[]\n",
    "        while True:\n",
    "            r=\"H\"\n",
    "            a=random.random()\n",
    "            if a>0.5:\n",
    "                r=\"T\"\n",
    "            coin_list.append(r)\n",
    "            if len(coin_list)>=2:\n",
    "                if (coin_list[-2]==sequence[0]) & (coin_list[-1]==sequence[1]):\n",
    "                    event+=1\n",
    "                    flip_time+=len(coin_list)\n",
    "                    break\n",
    "    print(\"The average flip time to get a {} is: {}\".format(sequence,flip_time/event))\n",
    "# The time to get \"HH\"\n",
    "Caculate_times_getting(\"HH\")\n",
    "\n",
    "#The time to get \"HT\"\n",
    "Caculate_times_getting(\"HT\")     "
   ]
  },
  {
   "cell_type": "markdown",
   "metadata": {},
   "source": [
    "## Question(c)\n",
    "Lets play a game: we flip a coin repeatedly until either HH emerges (you win) or HT emerges (I win).\n",
    "Is the game fair? (Show your work.)"
   ]
  },
  {
   "cell_type": "markdown",
   "metadata": {},
   "source": [
    "## Answer:\n",
    "It is fair. \n",
    "\n",
    "We can use the method in the question(b) to proof it, but here I just give the intuition.\n",
    "\n",
    "If we want to get either HH or HT, firstly a \"H\" need to come first. Once a \"H\" emerges, the probability to have a \"H\" or \"T\" is both 50%. Thus it is fair.\n",
    "\n",
    "### We can also use Monte carlo simulation to prove it:\n",
    "\n",
    "From the result(below), we can see in 1000000 times of experiment, the probability of having HH first is equal with HT."
   ]
  },
  {
   "cell_type": "code",
   "execution_count": 12,
   "metadata": {},
   "outputs": [
    {
     "name": "stdout",
     "output_type": "stream",
     "text": [
      "The number of HH emerging first is 499514 in 1000000\n",
      "The number of HT emerging first is 500486 in 1000000\n",
      "The ratio of them is:  0.9980578877331234\n"
     ]
    }
   ],
   "source": [
    "#Name:Calculate_Win_time\n",
    "#Purpose:This function is to statistic \n",
    "def Calculate_Win_time()\n",
    "    import random\n",
    "    HH=0\n",
    "    HT=0\n",
    "    time=1000000\n",
    "    for j in range(time):\n",
    "        coin_list=[]\n",
    "        while True:\n",
    "            r=0 # head\n",
    "            a=random.random()\n",
    "            if a>0.5:\n",
    "                r=1 #tail\n",
    "            coin_list.append(r)\n",
    "            if len(coin_list)>=2:\n",
    "                # if HH\n",
    "                if (coin_list[-1]==0) & (coin_list[-2]==0):\n",
    "                    HH+=1\n",
    "                    break\n",
    "                # if HT\n",
    "                elif (coin_list[-1]==1) & (coin_list[-2]==0):\n",
    "                    HT+=1\n",
    "                    break\n",
    "\n",
    "    print(\"The number of HH emerging first is {} in {}\".format(HH,time))\n",
    "    print(\"The number of HT emerging first is {} in {}\".format(HT,time))\n",
    "    print(\"The ratio of them is: \",HH/HT)"
   ]
  }
 ],
 "metadata": {
  "kernelspec": {
   "display_name": "Python 3",
   "language": "python",
   "name": "python3"
  },
  "language_info": {
   "codemirror_mode": {
    "name": "ipython",
    "version": 3
   },
   "file_extension": ".py",
   "mimetype": "text/x-python",
   "name": "python",
   "nbconvert_exporter": "python",
   "pygments_lexer": "ipython3",
   "version": "3.6.0"
  }
 },
 "nbformat": 4,
 "nbformat_minor": 2
}
