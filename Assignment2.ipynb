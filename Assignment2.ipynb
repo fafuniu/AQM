{
 "cells": [
  {
   "cell_type": "code",
   "execution_count": 1,
   "metadata": {
    "collapsed": true
   },
   "outputs": [],
   "source": [
    "import pandas as pd"
   ]
  },
  {
   "cell_type": "code",
   "execution_count": 2,
   "metadata": {
    "collapsed": true
   },
   "outputs": [],
   "source": [
    "import numpy as np"
   ]
  },
  {
   "cell_type": "code",
   "execution_count": 24,
   "metadata": {},
   "outputs": [],
   "source": [
    "data=pd.read_csv(\"data.csv\",header=None)\n",
    "data.columns =list(\"abcde\")"
   ]
  },
  {
   "cell_type": "code",
   "execution_count": 25,
   "metadata": {},
   "outputs": [],
   "source": [
    "y=pd.get_dummies(data[\"e\"],prefix=\"e\").as_matrix()"
   ]
  },
  {
   "cell_type": "code",
   "execution_count": 26,
   "metadata": {},
   "outputs": [],
   "source": [
    "x=data.drop([\"e\"],axis=1).as_matrix()"
   ]
  },
  {
   "cell_type": "code",
   "execution_count": 28,
   "metadata": {},
   "outputs": [
    {
     "data": {
      "text/plain": [
       "(1372, 2)"
      ]
     },
     "execution_count": 28,
     "metadata": {},
     "output_type": "execute_result"
    }
   ],
   "source": [
    "y.shape"
   ]
  },
  {
   "cell_type": "code",
   "execution_count": 29,
   "metadata": {},
   "outputs": [
    {
     "data": {
      "text/html": [
       "<div>\n",
       "<style>\n",
       "    .dataframe thead tr:only-child th {\n",
       "        text-align: right;\n",
       "    }\n",
       "\n",
       "    .dataframe thead th {\n",
       "        text-align: left;\n",
       "    }\n",
       "\n",
       "    .dataframe tbody tr th {\n",
       "        vertical-align: top;\n",
       "    }\n",
       "</style>\n",
       "<table border=\"1\" class=\"dataframe\">\n",
       "  <thead>\n",
       "    <tr style=\"text-align: right;\">\n",
       "      <th></th>\n",
       "      <th>a</th>\n",
       "      <th>b</th>\n",
       "      <th>c</th>\n",
       "      <th>d</th>\n",
       "      <th>e</th>\n",
       "    </tr>\n",
       "  </thead>\n",
       "  <tbody>\n",
       "    <tr>\n",
       "      <th>count</th>\n",
       "      <td>1372.000000</td>\n",
       "      <td>1372.000000</td>\n",
       "      <td>1372.000000</td>\n",
       "      <td>1372.000000</td>\n",
       "      <td>1372.000000</td>\n",
       "    </tr>\n",
       "    <tr>\n",
       "      <th>mean</th>\n",
       "      <td>0.433735</td>\n",
       "      <td>1.922353</td>\n",
       "      <td>1.397627</td>\n",
       "      <td>-1.191657</td>\n",
       "      <td>0.444606</td>\n",
       "    </tr>\n",
       "    <tr>\n",
       "      <th>std</th>\n",
       "      <td>2.842763</td>\n",
       "      <td>5.869047</td>\n",
       "      <td>4.310030</td>\n",
       "      <td>2.101013</td>\n",
       "      <td>0.497103</td>\n",
       "    </tr>\n",
       "    <tr>\n",
       "      <th>min</th>\n",
       "      <td>-7.042100</td>\n",
       "      <td>-13.773100</td>\n",
       "      <td>-5.286100</td>\n",
       "      <td>-8.548200</td>\n",
       "      <td>0.000000</td>\n",
       "    </tr>\n",
       "    <tr>\n",
       "      <th>25%</th>\n",
       "      <td>-1.773000</td>\n",
       "      <td>-1.708200</td>\n",
       "      <td>-1.574975</td>\n",
       "      <td>-2.413450</td>\n",
       "      <td>0.000000</td>\n",
       "    </tr>\n",
       "    <tr>\n",
       "      <th>50%</th>\n",
       "      <td>0.496180</td>\n",
       "      <td>2.319650</td>\n",
       "      <td>0.616630</td>\n",
       "      <td>-0.586650</td>\n",
       "      <td>0.000000</td>\n",
       "    </tr>\n",
       "    <tr>\n",
       "      <th>75%</th>\n",
       "      <td>2.821475</td>\n",
       "      <td>6.814625</td>\n",
       "      <td>3.179250</td>\n",
       "      <td>0.394810</td>\n",
       "      <td>1.000000</td>\n",
       "    </tr>\n",
       "    <tr>\n",
       "      <th>max</th>\n",
       "      <td>6.824800</td>\n",
       "      <td>12.951600</td>\n",
       "      <td>17.927400</td>\n",
       "      <td>2.449500</td>\n",
       "      <td>1.000000</td>\n",
       "    </tr>\n",
       "  </tbody>\n",
       "</table>\n",
       "</div>"
      ],
      "text/plain": [
       "                 a            b            c            d            e\n",
       "count  1372.000000  1372.000000  1372.000000  1372.000000  1372.000000\n",
       "mean      0.433735     1.922353     1.397627    -1.191657     0.444606\n",
       "std       2.842763     5.869047     4.310030     2.101013     0.497103\n",
       "min      -7.042100   -13.773100    -5.286100    -8.548200     0.000000\n",
       "25%      -1.773000    -1.708200    -1.574975    -2.413450     0.000000\n",
       "50%       0.496180     2.319650     0.616630    -0.586650     0.000000\n",
       "75%       2.821475     6.814625     3.179250     0.394810     1.000000\n",
       "max       6.824800    12.951600    17.927400     2.449500     1.000000"
      ]
     },
     "execution_count": 29,
     "metadata": {},
     "output_type": "execute_result"
    }
   ],
   "source": [
    "data.describe()"
   ]
  },
  {
   "cell_type": "code",
   "execution_count": 60,
   "metadata": {
    "collapsed": true
   },
   "outputs": [],
   "source": [
    "from sklearn.model_selection import train_test_split\n",
    "\n",
    "X_train, X_test, y_train, y_test = train_test_split(x, y, test_size=0.15, random_state=42)"
   ]
  },
  {
   "cell_type": "code",
   "execution_count": 31,
   "metadata": {},
   "outputs": [
    {
     "name": "stderr",
     "output_type": "stream",
     "text": [
      "Using TensorFlow backend.\n",
      "/home/fafun/anaconda3/lib/python3.6/importlib/_bootstrap.py:219: RuntimeWarning: compiletime version 3.5 of module 'tensorflow.python.framework.fast_tensor_util' does not match runtime version 3.6\n",
      "  return f(*args, **kwds)\n"
     ]
    }
   ],
   "source": [
    "import keras\n",
    "from keras.models import Sequential\n",
    "from keras.layers import Dense, Dropout, Activation\n",
    "from keras.optimizers import SGD\n",
    "\n",
    "# Generate dummy data\n",
    "import numpy as np"
   ]
  },
  {
   "cell_type": "code",
   "execution_count": 61,
   "metadata": {
    "scrolled": false
   },
   "outputs": [
    {
     "name": "stdout",
     "output_type": "stream",
     "text": [
      "Epoch 1/100\n",
      "1166/1166 [==============================] - 0s 398us/step - loss: 0.7698 - acc: 0.4794\n",
      "Epoch 2/100\n",
      "1166/1166 [==============================] - 0s 113us/step - loss: 0.7051 - acc: 0.5437\n",
      "Epoch 3/100\n",
      "1166/1166 [==============================] - 0s 122us/step - loss: 0.6498 - acc: 0.6081\n",
      "Epoch 4/100\n",
      "1166/1166 [==============================] - 0s 121us/step - loss: 0.6065 - acc: 0.6835\n",
      "Epoch 5/100\n",
      "1166/1166 [==============================] - 0s 120us/step - loss: 0.5810 - acc: 0.7256\n",
      "Epoch 6/100\n",
      "1166/1166 [==============================] - 0s 118us/step - loss: 0.5452 - acc: 0.7642\n",
      "Epoch 7/100\n",
      "1166/1166 [==============================] - 0s 123us/step - loss: 0.5165 - acc: 0.7899\n",
      "Epoch 8/100\n",
      "1166/1166 [==============================] - 0s 116us/step - loss: 0.4639 - acc: 0.8353\n",
      "Epoch 9/100\n",
      "1166/1166 [==============================] - 0s 120us/step - loss: 0.4200 - acc: 0.8756\n",
      "Epoch 10/100\n",
      "1166/1166 [==============================] - 0s 124us/step - loss: 0.3816 - acc: 0.8834\n",
      "Epoch 11/100\n",
      "1166/1166 [==============================] - 0s 126us/step - loss: 0.3436 - acc: 0.9065\n",
      "Epoch 12/100\n",
      "1166/1166 [==============================] - 0s 121us/step - loss: 0.3093 - acc: 0.9211\n",
      "Epoch 13/100\n",
      "1166/1166 [==============================] - 0s 208us/step - loss: 0.2905 - acc: 0.9228\n",
      "Epoch 14/100\n",
      "1166/1166 [==============================] - 0s 133us/step - loss: 0.2527 - acc: 0.9305\n",
      "Epoch 15/100\n",
      "1166/1166 [==============================] - 0s 119us/step - loss: 0.2261 - acc: 0.9391\n",
      "Epoch 16/100\n",
      "1166/1166 [==============================] - 0s 125us/step - loss: 0.2080 - acc: 0.9408\n",
      "Epoch 17/100\n",
      "1166/1166 [==============================] - 0s 127us/step - loss: 0.1924 - acc: 0.9477\n",
      "Epoch 18/100\n",
      "1166/1166 [==============================] - 0s 141us/step - loss: 0.1781 - acc: 0.9408\n",
      "Epoch 19/100\n",
      "1166/1166 [==============================] - 0s 174us/step - loss: 0.1675 - acc: 0.9460\n",
      "Epoch 20/100\n",
      "1166/1166 [==============================] - 0s 152us/step - loss: 0.1446 - acc: 0.9623\n",
      "Epoch 21/100\n",
      "1166/1166 [==============================] - 0s 204us/step - loss: 0.1582 - acc: 0.9520\n",
      "Epoch 22/100\n",
      "1166/1166 [==============================] - 0s 147us/step - loss: 0.1328 - acc: 0.9648\n",
      "Epoch 23/100\n",
      "1166/1166 [==============================] - 0s 196us/step - loss: 0.1216 - acc: 0.9683\n",
      "Epoch 24/100\n",
      "1166/1166 [==============================] - 0s 125us/step - loss: 0.1205 - acc: 0.9605\n",
      "Epoch 25/100\n",
      "1166/1166 [==============================] - 0s 132us/step - loss: 0.1125 - acc: 0.9683\n",
      "Epoch 26/100\n",
      "1166/1166 [==============================] - 0s 112us/step - loss: 0.1089 - acc: 0.9700\n",
      "Epoch 27/100\n",
      "1166/1166 [==============================] - 0s 121us/step - loss: 0.1121 - acc: 0.9631\n",
      "Epoch 28/100\n",
      "1166/1166 [==============================] - 0s 123us/step - loss: 0.0947 - acc: 0.9691\n",
      "Epoch 29/100\n",
      "1166/1166 [==============================] - 0s 156us/step - loss: 0.0957 - acc: 0.9734\n",
      "Epoch 30/100\n",
      "1166/1166 [==============================] - 0s 168us/step - loss: 0.0854 - acc: 0.9743\n",
      "Epoch 31/100\n",
      "1166/1166 [==============================] - 0s 136us/step - loss: 0.0803 - acc: 0.9760\n",
      "Epoch 32/100\n",
      "1166/1166 [==============================] - 0s 186us/step - loss: 0.0799 - acc: 0.9768\n",
      "Epoch 33/100\n",
      "1166/1166 [==============================] - 0s 147us/step - loss: 0.0837 - acc: 0.9734\n",
      "Epoch 34/100\n",
      "1166/1166 [==============================] - 0s 182us/step - loss: 0.0750 - acc: 0.9777\n",
      "Epoch 35/100\n",
      "1166/1166 [==============================] - 0s 137us/step - loss: 0.0712 - acc: 0.9811\n",
      "Epoch 36/100\n",
      "1166/1166 [==============================] - 0s 117us/step - loss: 0.0643 - acc: 0.9837\n",
      "Epoch 37/100\n",
      "1166/1166 [==============================] - 0s 122us/step - loss: 0.0667 - acc: 0.9803\n",
      "Epoch 38/100\n",
      "1166/1166 [==============================] - 0s 120us/step - loss: 0.0589 - acc: 0.9846\n",
      "Epoch 39/100\n",
      "1166/1166 [==============================] - 0s 123us/step - loss: 0.0608 - acc: 0.9786\n",
      "Epoch 40/100\n",
      "1166/1166 [==============================] - 0s 126us/step - loss: 0.0532 - acc: 0.9820\n",
      "Epoch 41/100\n",
      "1166/1166 [==============================] - 0s 127us/step - loss: 0.0607 - acc: 0.9828\n",
      "Epoch 42/100\n",
      "1166/1166 [==============================] - 0s 130us/step - loss: 0.0555 - acc: 0.9846\n",
      "Epoch 43/100\n",
      "1166/1166 [==============================] - 0s 127us/step - loss: 0.0530 - acc: 0.9820\n",
      "Epoch 44/100\n",
      "1166/1166 [==============================] - 0s 123us/step - loss: 0.0504 - acc: 0.9880\n",
      "Epoch 45/100\n",
      "1166/1166 [==============================] - 0s 128us/step - loss: 0.0476 - acc: 0.9863\n",
      "Epoch 46/100\n",
      "1166/1166 [==============================] - 0s 126us/step - loss: 0.0556 - acc: 0.9837\n",
      "Epoch 47/100\n",
      "1166/1166 [==============================] - 0s 126us/step - loss: 0.0502 - acc: 0.9880\n",
      "Epoch 48/100\n",
      "1166/1166 [==============================] - 0s 145us/step - loss: 0.0476 - acc: 0.9846\n",
      "Epoch 49/100\n",
      "1166/1166 [==============================] - 0s 180us/step - loss: 0.0528 - acc: 0.9803\n",
      "Epoch 50/100\n",
      "1166/1166 [==============================] - 0s 151us/step - loss: 0.0452 - acc: 0.9846\n",
      "Epoch 51/100\n",
      "1166/1166 [==============================] - 0s 127us/step - loss: 0.0487 - acc: 0.9846\n",
      "Epoch 52/100\n",
      "1166/1166 [==============================] - 0s 123us/step - loss: 0.0408 - acc: 0.9863\n",
      "Epoch 53/100\n",
      "1166/1166 [==============================] - 0s 125us/step - loss: 0.0468 - acc: 0.9854\n",
      "Epoch 54/100\n",
      "1166/1166 [==============================] - 0s 151us/step - loss: 0.0537 - acc: 0.9803\n",
      "Epoch 55/100\n",
      "1166/1166 [==============================] - 0s 210us/step - loss: 0.0467 - acc: 0.9863\n",
      "Epoch 56/100\n",
      "1166/1166 [==============================] - 0s 167us/step - loss: 0.0425 - acc: 0.9871\n",
      "Epoch 57/100\n",
      "1166/1166 [==============================] - 0s 163us/step - loss: 0.0417 - acc: 0.9846\n",
      "Epoch 58/100\n",
      "1166/1166 [==============================] - 0s 191us/step - loss: 0.0396 - acc: 0.9854\n",
      "Epoch 59/100\n",
      "1166/1166 [==============================] - 0s 162us/step - loss: 0.0355 - acc: 0.9897\n",
      "Epoch 60/100\n",
      "1166/1166 [==============================] - 0s 163us/step - loss: 0.0391 - acc: 0.9871\n",
      "Epoch 61/100\n",
      "1166/1166 [==============================] - 0s 168us/step - loss: 0.0411 - acc: 0.9871\n",
      "Epoch 62/100\n",
      "1166/1166 [==============================] - 0s 161us/step - loss: 0.0322 - acc: 0.9914\n",
      "Epoch 63/100\n",
      "1166/1166 [==============================] - 0s 208us/step - loss: 0.0343 - acc: 0.9914\n",
      "Epoch 64/100\n",
      "1166/1166 [==============================] - 0s 184us/step - loss: 0.0316 - acc: 0.9897\n",
      "Epoch 65/100\n",
      "1166/1166 [==============================] - 0s 142us/step - loss: 0.0421 - acc: 0.9863\n",
      "Epoch 66/100\n",
      "1166/1166 [==============================] - 0s 208us/step - loss: 0.0392 - acc: 0.9871\n",
      "Epoch 67/100\n",
      "1166/1166 [==============================] - 0s 208us/step - loss: 0.0390 - acc: 0.9880\n",
      "Epoch 68/100\n",
      "1166/1166 [==============================] - 0s 154us/step - loss: 0.0344 - acc: 0.9889\n",
      "Epoch 69/100\n",
      "1166/1166 [==============================] - 0s 169us/step - loss: 0.0367 - acc: 0.9863\n",
      "Epoch 70/100\n",
      "1166/1166 [==============================] - 0s 187us/step - loss: 0.0297 - acc: 0.9897\n",
      "Epoch 71/100\n",
      "1166/1166 [==============================] - 0s 148us/step - loss: 0.0379 - acc: 0.9880\n",
      "Epoch 72/100\n",
      "1166/1166 [==============================] - 0s 164us/step - loss: 0.0366 - acc: 0.9880\n",
      "Epoch 73/100\n",
      "1166/1166 [==============================] - 0s 233us/step - loss: 0.0328 - acc: 0.9871\n",
      "Epoch 74/100\n",
      "1166/1166 [==============================] - 0s 213us/step - loss: 0.0374 - acc: 0.9854\n",
      "Epoch 75/100\n",
      "1166/1166 [==============================] - 0s 158us/step - loss: 0.0387 - acc: 0.9880\n",
      "Epoch 76/100\n",
      "1166/1166 [==============================] - 0s 168us/step - loss: 0.0338 - acc: 0.9906\n",
      "Epoch 77/100\n",
      "1166/1166 [==============================] - 0s 235us/step - loss: 0.0291 - acc: 0.9914\n",
      "Epoch 78/100\n",
      "1166/1166 [==============================] - 0s 169us/step - loss: 0.0350 - acc: 0.9889\n",
      "Epoch 79/100\n",
      "1166/1166 [==============================] - 0s 130us/step - loss: 0.0348 - acc: 0.9889\n",
      "Epoch 80/100\n",
      "1166/1166 [==============================] - 0s 205us/step - loss: 0.0352 - acc: 0.9828\n",
      "Epoch 81/100\n",
      "1166/1166 [==============================] - 0s 211us/step - loss: 0.0317 - acc: 0.9897\n",
      "Epoch 82/100\n"
     ]
    },
    {
     "name": "stdout",
     "output_type": "stream",
     "text": [
      "1166/1166 [==============================] - 0s 151us/step - loss: 0.0325 - acc: 0.9897\n",
      "Epoch 83/100\n",
      "1166/1166 [==============================] - 0s 142us/step - loss: 0.0257 - acc: 0.9923\n",
      "Epoch 84/100\n",
      "1166/1166 [==============================] - 0s 203us/step - loss: 0.0271 - acc: 0.9923\n",
      "Epoch 85/100\n",
      "1166/1166 [==============================] - 0s 162us/step - loss: 0.0319 - acc: 0.9880\n",
      "Epoch 86/100\n",
      "1166/1166 [==============================] - 0s 127us/step - loss: 0.0357 - acc: 0.9880\n",
      "Epoch 87/100\n",
      "1166/1166 [==============================] - 0s 214us/step - loss: 0.0289 - acc: 0.9914\n",
      "Epoch 88/100\n",
      "1166/1166 [==============================] - 0s 193us/step - loss: 0.0319 - acc: 0.9863\n",
      "Epoch 89/100\n",
      "1166/1166 [==============================] - 0s 118us/step - loss: 0.0261 - acc: 0.9914\n",
      "Epoch 90/100\n",
      "1166/1166 [==============================] - 0s 182us/step - loss: 0.0300 - acc: 0.9880\n",
      "Epoch 91/100\n",
      "1166/1166 [==============================] - 0s 190us/step - loss: 0.0251 - acc: 0.9931\n",
      "Epoch 92/100\n",
      "1166/1166 [==============================] - 0s 137us/step - loss: 0.0345 - acc: 0.9863\n",
      "Epoch 93/100\n",
      "1166/1166 [==============================] - 0s 160us/step - loss: 0.0354 - acc: 0.9863\n",
      "Epoch 94/100\n",
      "1166/1166 [==============================] - 0s 195us/step - loss: 0.0249 - acc: 0.9906\n",
      "Epoch 95/100\n",
      "1166/1166 [==============================] - 0s 194us/step - loss: 0.0291 - acc: 0.9871\n",
      "Epoch 96/100\n",
      "1166/1166 [==============================] - 0s 128us/step - loss: 0.0222 - acc: 0.9974\n",
      "Epoch 97/100\n",
      "1166/1166 [==============================] - 0s 119us/step - loss: 0.0282 - acc: 0.9880\n",
      "Epoch 98/100\n",
      "1166/1166 [==============================] - 0s 169us/step - loss: 0.0308 - acc: 0.9897\n",
      "Epoch 99/100\n",
      "1166/1166 [==============================] - 0s 143us/step - loss: 0.0230 - acc: 0.9940\n",
      "Epoch 100/100\n",
      "1166/1166 [==============================] - 0s 175us/step - loss: 0.0290 - acc: 0.9889\n",
      "206/206 [==============================] - 0s 785us/step\n"
     ]
    }
   ],
   "source": [
    "model = Sequential()\n",
    "# Dense(64) is a fully-connected layer with 64 hidden units.\n",
    "# in the first layer, you must specify the expected input data shape:\n",
    "# here, 20-dimensional vectors.\n",
    "model.add(Dense(10, activation='sigmoid', input_dim=4))\n",
    "model.add(Dense(10, activation='sigmoid'))\n",
    "\n",
    "model.add(Dropout(rate=0.25))\n",
    "model.add(Dense(2,activation='softmax'))\n",
    "\n",
    "model.compile(loss=keras.losses.categorical_crossentropy,\n",
    "              optimizer=keras.optimizers.Adadelta(lr=1.0, rho=0.95, epsilon=1e-08, decay=0.0),\n",
    "              metrics=['accuracy'])\n",
    "\n",
    "history=model.fit(X_train,y_train, epochs=100, batch_size=10)\n",
    "\n",
    "\n",
    "\n",
    "score = model.evaluate( X_test,y_test, batch_size=10)"
   ]
  },
  {
   "cell_type": "code",
   "execution_count": 62,
   "metadata": {},
   "outputs": [
    {
     "data": {
      "image/png": "[encoded data removed]",
      "text/plain": [
       "<matplotlib.figure.Figure at 0x2ac391e05240>"
      ]
     },
     "metadata": {},
     "output_type": "display_data"
    }
   ],
   "source": [
    "import matplotlib.pyplot as plt\n",
    "plt.plot(history.history[\"acc\"])\n",
    "plt.show()"
   ]
  },
  {
   "cell_type": "code",
   "execution_count": 64,
   "metadata": {},
   "outputs": [
    {
     "name": "stdout",
     "output_type": "stream",
     "text": [
      "[0.014370368475442553, 0.99514562991058941]\n"
     ]
    }
   ],
   "source": [
    "print(score)"
   ]
  }
 ],
 "metadata": {
  "kernelspec": {
   "display_name": "Python 3",
   "language": "python",
   "name": "python3"
  },
  "language_info": {
   "codemirror_mode": {
    "name": "ipython",
    "version": 3
   },
   "file_extension": ".py",
   "mimetype": "text/x-python",
   "name": "python",
   "nbconvert_exporter": "python",
   "pygments_lexer": "ipython3",
   "version": "3.6.3"
  }
 },
 "nbformat": 4,
 "nbformat_minor": 2
}
