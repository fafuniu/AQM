{
 "cells": [
  {
   "cell_type": "markdown",
   "metadata": {},
   "source": [
    "# Code for problem 4"
   ]
  },
  {
   "cell_type": "code",
   "execution_count": 1,
   "metadata": {},
   "outputs": [
    {
     "name": "stdout",
     "output_type": "stream",
     "text": [
      "1005036864 1005036904 1005036917 1005036913 1005036924 1005036837 1005036909 1005036900 1005036907 1005036897 1005036896 1005036897 1005036837 1005036876 1005036837 1005036896 1005036907 1005036913 1005036896 1005036919 1005036896 1005036897 1005036837 1005036913 1005036909 1005036896 1005036837 1005036914 1005036906 1005036919 1005036905 1005036897 1005036841 1005036837 1005036903 1005036900 1005036919 1005036896 1005036899 1005036906 1005036906 1005036913 1005036837 1005036876 1005036837 1005036905 1005036896 1005036900 1005036915 1005036896 1005036837 1005036908 1005036913 1005036843 1005036837 1005036872 1005036924 1005036837 1005036902 1005036906 1005036904 1005036908 1005036907 1005036898 1005036841 1005036837 1005036904 1005036924 1005036837 1005036898 1005036906 1005036908 1005036907 1005036898 1005036841 1005036837 1005036913 1005036914 1005036906 1005036837 1005036918 1005036908 1005036904 1005036917 1005036905 1005036896 1005036837 1005036909 1005036900 1005036917 1005036917 1005036896 1005036907 1005036908 1005036907 1005036898 1005036918 1005036837 1005036913 1005036909 1005036900 1005036913 1005036837 1005036898 1005036906 1005036913 1005036837 1005036896 1005036907 1005036913 1005036900 1005036907 1005036898 1005036905 1005036896 1005036897 1005036843\n",
      "Empty handed I entered the world, barefoot I leave it. My coming, my going, two simple happenings that got entangled.\n"
     ]
    }
   ],
   "source": [
    "### Author: Fafu Niu\n",
    "### Description: Python code skeleton for simple XOR Cipher\n",
    "import hashlib\n",
    "key = \"magic\"\n",
    "plaintext = \"Empty handed I entered the world, barefoot I leave it. My coming, my going, two simple happenings that got entangled.\"\n",
    "ciphertext = []\n",
    "\n",
    "# Name: convert_to_ciphertext\n",
    "# Purpose: Convert plaintext to ciphertext\n",
    "# In: plaintext (str), key (int)\n",
    "# Out: ciphertext (list)\n",
    "def convert_to_ciphertext(p_text, k):\n",
    "    ### TODO: your code goes here\n",
    "    ciphertext=[]\n",
    "    for char in p_text:\n",
    "        ciphertext.append(ord(char)^k)\n",
    "    return ciphertext\n",
    "\n",
    "# Name: convert_to_plaintext\n",
    "# Purpose: convert ciphertext to plain plaintext\n",
    "# In: ciphertext (str), key (int)\n",
    "# Out: plaintext (str)\n",
    "def convert_to_plaintext(c_text, k):\n",
    "    ### TODO: your code goes here\n",
    "    plaintext=\"\"\n",
    "    for ciphertext in c_text:\n",
    "        plain=ciphertext^k\n",
    "        character=chr(plain)\n",
    "        plaintext+=character\n",
    "    return plaintext\n",
    "\n",
    "# Name: get_hash\n",
    "# Purpose: compute hash of key, return first 8 digits of SHA hash as a number\n",
    "# In: key (str)\n",
    "# Out: h (int)\n",
    "def get_hash(k):\n",
    "    ### TODO: your code goes here\n",
    "    h=hashlib.sha256(b\"magic\").hexdigest()[0:8]\n",
    "    h=int('0x'+h,16)    \n",
    "    return h\n",
    "\n",
    "### begin execution here ###\n",
    "h = get_hash(key)\n",
    "c = convert_to_ciphertext(plaintext,h)\n",
    "print(' '.join([str(i) for i in c]))\n",
    "d = convert_to_plaintext(c, h)\n",
    "print(d)"
   ]
  }
 ],
 "metadata": {
  "kernelspec": {
   "display_name": "Python 3",
   "language": "python",
   "name": "python3"
  },
  "language_info": {
   "codemirror_mode": {
    "name": "ipython",
    "version": 3
   },
   "file_extension": ".py",
   "mimetype": "text/x-python",
   "name": "python",
   "nbconvert_exporter": "python",
   "pygments_lexer": "ipython3",
   "version": "3.6.0"
  }
 },
 "nbformat": 4,
 "nbformat_minor": 2
}
