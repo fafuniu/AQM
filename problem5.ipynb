{
 "cells": [
  {
   "cell_type": "markdown",
   "metadata": {},
   "source": [
    "# Problem 5"
   ]
  },
  {
   "cell_type": "markdown",
   "metadata": {},
   "source": [
    "### Code"
   ]
  },
  {
   "cell_type": "code",
   "execution_count": 1,
   "metadata": {
    "collapsed": true,
    "scrolled": false
   },
   "outputs": [],
   "source": [
    "import matplotlib.pyplot as plt\n",
    "import urllib.request\n",
    "import numpy as np\n",
    "import pandas as pd\n",
    "import copy\n",
    "\n",
    "# Name: get_data_from_internet\n",
    "# Purpose: Return value of data\n",
    "# In: url(str)\n",
    "# Out: data_df(dataframe) \n",
    "def read_data_from_online(url):\n",
    "\n",
    "    #read content from the url\n",
    "    resource = urllib.request.urlopen(url)\n",
    "    content =  resource.read().decode(resource.headers.get_content_charset())\n",
    "    lines=content.split(\"\\n\")\n",
    "    data_list=[]\n",
    "    #find the first line of the data\n",
    "    for startline, line in enumerate(lines):\n",
    "        if line=='    eruptions waiting':\n",
    "            break\n",
    "    for line in lines[startline+1:]:\n",
    "        data=line.split()\n",
    "        if len(data)==3:\n",
    "            data_list.append([eval(n) for n in data][1:])\n",
    "    data_df=pd.DataFrame(data_list, columns=[\"erupthins\",'waiting'])\n",
    "    return data_df\n",
    "      \n",
    "\n",
    "# Name: get_normal\n",
    "# Purpose: Return value of multivariate Normal distribution\n",
    "# In: x (array), mu (array), E (2D array)\n",
    "# Out: (float)\n",
    "def get_normal(x,mu,E):\n",
    "    norm = 1.0 / ((2.0*np.pi)**(len(x)/2)*np.sqrt(np.linalg.det(E)))\n",
    "    delta = (x - mu) # (1xN)\n",
    "    #print(delta)\n",
    "    #print(np.transpose(delta))\n",
    "    exponent = np.dot(np.dot(delta,np.linalg.pinv(E)),np.transpose(delta))\n",
    "    return norm * np.exp(-0.5 * exponent)\n",
    "\n",
    "# Name: normalize_data\n",
    "# Purpose: normalize data in a dataframe in the range [0,1]\n",
    "# In: df (Pandas Dataframe)\n",
    "# Out: df (Pandas Dataframe)\n",
    "def normalize_data(df):\n",
    "    # Number of columns\n",
    "    header = df.columns.values\n",
    "    # Normalize column by column\n",
    "    for col in header:\n",
    "        cmax = np.max(df[col])\n",
    "        cmin = np.min(df[col])\n",
    "        df[col] = df[col].apply(lambda r: float(r - cmin)/float(cmax - cmin))\n",
    "    return df\n",
    "\n",
    "# Name: initialize_params\n",
    "# Purpose: initialize the parameters\n",
    "# and the number of clusters K\n",
    "# In: N (int), K (int)\n",
    "# Out: pi (array), mu (array), E (2D array)\n",
    "def initialize_params(N,K):\n",
    "    np.random.seed(26)\n",
    "    # Initialize mean vectors (one for each cluster) (KxN)\n",
    "    mu = np.random.rand(K,N)\n",
    "    # Initialize mixing coefficients (one for each cluster) (1xK)\n",
    "    # they must be normalized\n",
    "    pi = np.random.rand(K)\n",
    "    pi = pi / np.sum(pi)\n",
    "    # Initialize covariance matrices (one for each cluster) (NxN)\n",
    "    E = list(range(K))\n",
    "    for k in range(K):\n",
    "        E[k] = np.identity(N)\n",
    "       \n",
    "    return mu,E,pi\n",
    "\n",
    "# Name: get_gamma_z\n",
    "# Purpose: calculate gamma(z_{m,k})\n",
    "# In: k,m,K (int), df (dataframe) mu(2D array) E(3D array) pi(array)\n",
    "# Out: gamma_zkm (float)\n",
    "def get_gamma_z(k,m,df,mu,pi,E,K):\n",
    "    numerator=pi[k]*get_normal(df.iloc[m].values,mu[k],E[k])\n",
    "    denominator=0\n",
    "    for j in range(K):\n",
    "        denominator+=pi[j]*get_normal(df.iloc[m].values,mu[j],E[j])\n",
    "    gamma_zkm=numerator/denominator\n",
    "    return gamma_zkm\n",
    "\n",
    "# Name: m_step\n",
    "# Purpose: calculate the new pi,E,and mu\n",
    "# In: df (dataframe) mu(2D array) E(3D array) pi(array) k,step(int)\n",
    "# Out: mu(2D array) E(3D array) pi(array) k,step(int) EM_mu(3D array) convergence_px(array) \n",
    "def m_step(df,mu,pi,E,K,step):\n",
    "    #EM\n",
    "    EM_mu=[]\n",
    "    convergence_px=[]\n",
    "    for i in range(step):\n",
    "        #print(i,\" out of \",step)\n",
    "        for k in range(K):\n",
    "            M=len(df)\n",
    "            sum_gamma_Z=0\n",
    "            sum_gamma_ZX=0\n",
    "            sum_gamma_ZXMu=0\n",
    "            for m in range(M):\n",
    "                temp=get_gamma_z(k,m,df,mu,pi,E,K)\n",
    "                xm=df.iloc[m].values\n",
    "                sum_gamma_Z+=temp\n",
    "                sum_gamma_ZX+=temp*xm\n",
    "                sum_gamma_ZXMu+=temp*np.outer((xm-mu[k]),(xm-mu[k]))\n",
    "            #calculate the new parameter\n",
    "\n",
    "            pi[k]=sum_gamma_Z/M\n",
    "            mu[k]= sum_gamma_ZX/sum_gamma_Z\n",
    "            E[k]=sum_gamma_ZXMu/sum_gamma_Z\n",
    "        px=1\n",
    "        for m in range(len(df)):\n",
    "            sum_N=0\n",
    "            for k in range(K):\n",
    "                sum_N+=pi[k]*get_normal(df.iloc[m].values,mu[k],E[k])\n",
    "            px=px*sum_N\n",
    "        EM_mu.append(copy.deepcopy(mu))\n",
    "        #print(EM_mu)\n",
    "        convergence_px.append(px)\n",
    "        #print(mu[0])\n",
    "    return EM_mu,mu,pi,E,convergence_px\n",
    "\n",
    "    \n",
    "\n",
    "#read values from online   \n",
    "url=\"http://www.stat.cmu.edu/~larry/all-of-statistics/=data/faithful.dat\"\n",
    "data_df=read_data_from_online(url)\n",
    "\n",
    "#visulization normalize_data\n",
    "df=normalize_data(data_df)\n",
    "#plt.scatter(df.erupthins, df.waiting)\n",
    "#plt.show()\n",
    "\n",
    "#initialize params\n",
    "N=2\n",
    "K=2\n",
    "mu,E,pi=initialize_params(N,K)\n",
    "\n",
    "\n",
    "step=40\n",
    "EM_mu,mu,pi,E,convergence_px=m_step(df,mu,pi,E,K,step)\n",
    "\n",
    "#print(EM_mu)"
   ]
  },
  {
   "cell_type": "markdown",
   "metadata": {},
   "source": [
    "## Question(a)\n",
    "A plot or datafile containing your parameters {π k , μ k , Σ k } and optionally ln p(X) demonstrating nu-meric convergence after a number of training steps"
   ]
  },
  {
   "cell_type": "markdown",
   "metadata": {},
   "source": [
    "### Answer "
   ]
  },
  {
   "cell_type": "markdown",
   "metadata": {},
   "source": [
    "### (1) a plot for the change of μ k (the center of the cluster) "
   ]
  },
  {
   "cell_type": "code",
   "execution_count": 2,
   "metadata": {},
   "outputs": [
    {
     "data": {
      "image/png": "[encoded data removed]",
      "text/plain": [
       "<matplotlib.figure.Figure at 0x2b5ef70db6a0>"
      ]
     },
     "metadata": {},
     "output_type": "display_data"
    }
   ],
   "source": [
    "#plot change of the center\n",
    "center=[]\n",
    "for mu in EM_mu:\n",
    "    center.append(mu[0])\n",
    "center=np.array(center)\n",
    "plt.plot(center[:,0],label='x change of cluster 1 center ')\n",
    "plt.plot(center[:,1],label='y change of cluster 1 center')\n",
    "plt.xlabel(\"EM_step\")\n",
    "plt.legend()\n",
    "plt.show()"
   ]
  },
  {
   "cell_type": "markdown",
   "metadata": {},
   "source": [
    "### (2) plot for ln p(X)"
   ]
  },
  {
   "cell_type": "code",
   "execution_count": 3,
   "metadata": {
    "scrolled": true
   },
   "outputs": [
    {
     "data": {
      "image/png": "[encoded data removed]",
      "text/plain": [
       "<matplotlib.figure.Figure at 0x2b5ef6ed1d30>"
      ]
     },
     "metadata": {},
     "output_type": "display_data"
    }
   ],
   "source": [
    "plt.plot(np.log(convergence_px))\n",
    "plt.xlabel(\"EM_step\")\n",
    "plt.ylabel(\"log(P(X))\")\n",
    "plt.show()"
   ]
  },
  {
   "cell_type": "markdown",
   "metadata": {},
   "source": [
    "## Question(b)\n",
    "A plot of the predicted clusters after training superimposed on the Old Faithful dataset"
   ]
  },
  {
   "cell_type": "code",
   "execution_count": 4,
   "metadata": {},
   "outputs": [
    {
     "data": {
      "image/png": "[encoded data removed]",
      "text/plain": [
       "<matplotlib.figure.Figure at 0x2b5f26140a90>"
      ]
     },
     "metadata": {},
     "output_type": "display_data"
    }
   ],
   "source": [
    "#plot the differnt cluster with different color\n",
    "#when N=2 K=2\n",
    "colors_list=['r','y','g','b','c','m']\n",
    "for m in range(len(df)):\n",
    "    gamma_z_list=[]\n",
    "    for k in range(K):\n",
    "        gamma_z=get_gamma_z(k,m,df,mu,pi,E,K)\n",
    "        gamma_z_list.append(gamma_z)\n",
    "    #find the max \n",
    "    label=np.argmax(np.array(gamma_z_list))\n",
    "    plt.scatter(df.iloc[m].values[0],df.iloc[m].values[1],c=colors_list[label])\n",
    "plt.xlabel(\"eruptions\")\n",
    "plt.ylabel(\"waiting\")\n",
    "plt.show()"
   ]
  }
 ],
 "metadata": {
  "kernelspec": {
   "display_name": "Python 3",
   "language": "python",
   "name": "python3"
  },
  "language_info": {
   "codemirror_mode": {
    "name": "ipython",
    "version": 3
   },
   "file_extension": ".py",
   "mimetype": "text/x-python",
   "name": "python",
   "nbconvert_exporter": "python",
   "pygments_lexer": "ipython3",
   "version": "3.6.0"
  }
 },
 "nbformat": 4,
 "nbformat_minor": 2
}
